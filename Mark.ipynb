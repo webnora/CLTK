{
 "cells": [
  {
   "cell_type": "code",
   "execution_count": 1,
   "metadata": {},
   "outputs": [],
   "source": [
    "import os\n",
    "import gensim\n",
    "from gensim.utils import simple_preprocess\n",
    "import pandas as pd"
   ]
  },
  {
   "cell_type": "code",
   "execution_count": 2,
   "metadata": {},
   "outputs": [
    {
     "data": {
      "text/plain": [
       "['þis his sy forewearde þe Brichtric 7 his gebedde habbað wið þa canonicas, þæt his þæt heo sculan habban heora beira dæi anes canonikes gerihte on mete 7 on eale 7 heo habbað geunnen hyra land þam canonike scær 7 saccleas, 7 æfter heora bera dæige beon þa canonikes eruename of ealre æhte 7 þis beoð þa gewitnisse, þæt is Ægelwine Brihtmeres sune 7 Leofstan 7 Hearding 7 Bruning.',\n",
       " 'þis is sy forewearde þe Ægelward hafð gemacad wið þonne decanus 7 wið ealle þa gebroðre of sce Paules mynstre þæt is of ane healfe hyde landes æt Sandune þæt he sceal æfrice geare gyuen .viii. horen for ealle þinc 7 hi sculan baþa habban he 7 hys wif þa hwile þa hy lyfieð 7 æfter hyre begre dæge habba scs Paulus eall þæt hy þær æfter belæfeð þa him mid rihte to gebyrige oppan þan ilcan lande 7 þæt he habba þæt land swa swa hit nu gelogod is. 7 þis synd þa gewitnysse, þæt is se decanus 7 þa fuwer arcediacones 7 þysre gewrite syndon twa, an haben þa gebroðre 7 þæt oðer Ægelward, 7 hær wið wæs Colswegen 7 Ægelmær 7 Sexi.']"
      ]
     },
     "execution_count": 2,
     "metadata": {},
     "output_type": "execute_result"
    }
   ],
   "source": [
    "def preproc_corpus(path):\n",
    "    texts = []\n",
    "    for fname in os.listdir(path):\n",
    "        if not fname.endswith('.txt'):\n",
    "            continue\n",
    "        with open(path + '/' + fname) as f:\n",
    "            text = f.read()\n",
    "            texts.append(text)\n",
    "    return texts\n",
    "\n",
    "texts = preproc_corpus('.')\n",
    "texts"
   ]
  },
  {
   "cell_type": "code",
   "execution_count": 3,
   "metadata": {},
   "outputs": [],
   "source": [
    "def sent_to_words(sentences):\n",
    "    for sentence in sentences:\n",
    "        yield(gensim.utils.simple_preprocess(str(sentence), deacc=True))  # deacc=True removes punctuations"
   ]
  },
  {
   "cell_type": "code",
   "execution_count": 4,
   "metadata": {},
   "outputs": [],
   "source": [
    "clean_texts = list(sent_to_words(texts))\n",
    "clean_text_df_2 = pd.DataFrame(clean_texts[1])\n",
    "clean_text_df_1 = pd.DataFrame(clean_texts[0])"
   ]
  },
  {
   "cell_type": "code",
   "execution_count": 5,
   "metadata": {},
   "outputs": [],
   "source": [
    "# def load_lemm(path):\n",
    "#     # https://github.com/unimorph/ang\n",
    "#     lemmas = {}\n",
    "#     with open(path) as f:\n",
    "#         for line in f:\n",
    "#             cells = line.strip().split('\\t')\n",
    "#             if len(cells) == 3:\n",
    "#                 lemma, wordform, grammar = cells\n",
    "#                 lemmas[wordform.lower()] = lemma.lower()\n",
    "#     return lemmas"
   ]
  },
  {
   "cell_type": "code",
   "execution_count": 6,
   "metadata": {},
   "outputs": [],
   "source": [
    "# lemm_dict = load_lemm('../calgary/Lena_test/ang.txt')"
   ]
  },
  {
   "cell_type": "code",
   "execution_count": 7,
   "metadata": {},
   "outputs": [],
   "source": [
    "# def lemmatize(w, lemm_dict):\n",
    "#     if w in lemm_dict:\n",
    "#         return lemm_dict[w]\n",
    "#     else:\n",
    "#         return w"
   ]
  },
  {
   "cell_type": "code",
   "execution_count": 8,
   "metadata": {},
   "outputs": [],
   "source": [
    "# lemmas = [[lemmatize(w, lemm_dict) for w in s] for s in clean_texts]\n",
    "# lemmas_df_1 = pd.DataFrame(lemmas[0])\n",
    "# lemmas_df_2 = pd.DataFrame(lemmas[1])\n"
   ]
  },
  {
   "cell_type": "code",
   "execution_count": 9,
   "metadata": {},
   "outputs": [],
   "source": [
    "# result_table_1 = pd.concat([clean_text_df_1, lemmas_df_1], axis=1, sort=False)\n",
    "# result_table_2 = pd.concat([clean_text_df_2, lemmas_df_2], axis=1, sort=False)\n",
    "# result_table_1=result_table_1.rename(columns={'0': '1','0': '2'})\n",
    "# result_table_1"
   ]
  },
  {
   "cell_type": "code",
   "execution_count": 10,
   "metadata": {},
   "outputs": [
    {
     "data": {
      "text/plain": [
       "'þis his sy forewearde þe Brichtric 7 his gebedde habbað wið þa canonicas, þæt his þæt heo sculan habban heora beira dæi anes canonikes gerihte on mete 7 on eale 7 heo habbað geunnen hyra land þam canonike scær 7 saccleas, 7 æfter heora bera dæige beon þa canonikes eruename of ealre æhte 7 þis beoð þa gewitnisse, þæt is Ægelwine Brihtmeres sune 7 Leofstan 7 Hearding 7 Bruning. þis is sy forewearde þe Ægelward hafð gemacad wið þonne decanus 7 wið ealle þa gebroðre of sce Paules mynstre þæt is of ane healfe hyde landes æt Sandune þæt he sceal æfrice geare gyuen .viii. horen for ealle þinc 7 hi sculan baþa habban he 7 hys wif þa hwile þa hy lyfieð 7 æfter hyre begre dæge habba scs Paulus eall þæt hy þær æfter belæfeð þa him mid rihte to gebyrige oppan þan ilcan lande 7 þæt he habba þæt land swa swa hit nu gelogod is. 7 þis synd þa gewitnysse, þæt is se decanus 7 þa fuwer arcediacones 7 þysre gewrite syndon twa, an haben þa gebroðre 7 þæt oðer Ægelward, 7 hær wið wæs Colswegen 7 Ægelmær 7 Sexi.'"
      ]
     },
     "execution_count": 10,
     "metadata": {},
     "output_type": "execute_result"
    }
   ],
   "source": [
    "texts_str = ' '.join(texts)\n",
    "texts_str"
   ]
  },
  {
   "cell_type": "markdown",
   "metadata": {},
   "source": [
    "http://docs.cltk.org/en/latest/old_english.html\n"
   ]
  },
  {
   "cell_type": "code",
   "execution_count": 11,
   "metadata": {},
   "outputs": [],
   "source": [
    "import cltk.lemmatize.old_english.lemma as oe_l\n",
    "lemmatizer = oe_l.OldEnglishDictionaryLemmatizer()\n",
    "lemmas = lemmatizer.lemmatize(texts_str)"
   ]
  },
  {
   "cell_type": "code",
   "execution_count": 12,
   "metadata": {},
   "outputs": [
    {
     "data": {
      "text/html": [
       "<div>\n",
       "<style scoped>\n",
       "    .dataframe tbody tr th:only-of-type {\n",
       "        vertical-align: middle;\n",
       "    }\n",
       "\n",
       "    .dataframe tbody tr th {\n",
       "        vertical-align: top;\n",
       "    }\n",
       "\n",
       "    .dataframe thead th {\n",
       "        text-align: right;\n",
       "    }\n",
       "</style>\n",
       "<table border=\"1\" class=\"dataframe\">\n",
       "  <thead>\n",
       "    <tr style=\"text-align: right;\">\n",
       "      <th></th>\n",
       "      <th>form</th>\n",
       "      <th>lemma</th>\n",
       "    </tr>\n",
       "  </thead>\n",
       "  <tbody>\n",
       "    <tr>\n",
       "      <th>0</th>\n",
       "      <td>þis</td>\n",
       "      <td>þis</td>\n",
       "    </tr>\n",
       "    <tr>\n",
       "      <th>1</th>\n",
       "      <td>his</td>\n",
       "      <td>he</td>\n",
       "    </tr>\n",
       "    <tr>\n",
       "      <th>2</th>\n",
       "      <td>sy</td>\n",
       "      <td>wesan</td>\n",
       "    </tr>\n",
       "    <tr>\n",
       "      <th>3</th>\n",
       "      <td>forewearde</td>\n",
       "      <td>forewearde</td>\n",
       "    </tr>\n",
       "    <tr>\n",
       "      <th>4</th>\n",
       "      <td>þe</td>\n",
       "      <td>se</td>\n",
       "    </tr>\n",
       "    <tr>\n",
       "      <th>...</th>\n",
       "      <td>...</td>\n",
       "      <td>...</td>\n",
       "    </tr>\n",
       "    <tr>\n",
       "      <th>200</th>\n",
       "      <td>7</td>\n",
       "      <td>7</td>\n",
       "    </tr>\n",
       "    <tr>\n",
       "      <th>201</th>\n",
       "      <td>Ægelmær</td>\n",
       "      <td>Ægelmær</td>\n",
       "    </tr>\n",
       "    <tr>\n",
       "      <th>202</th>\n",
       "      <td>7</td>\n",
       "      <td>7</td>\n",
       "    </tr>\n",
       "    <tr>\n",
       "      <th>203</th>\n",
       "      <td>Sexi</td>\n",
       "      <td>Sexi</td>\n",
       "    </tr>\n",
       "    <tr>\n",
       "      <th>204</th>\n",
       "      <td>.</td>\n",
       "      <td>.</td>\n",
       "    </tr>\n",
       "  </tbody>\n",
       "</table>\n",
       "<p>205 rows × 2 columns</p>\n",
       "</div>"
      ],
      "text/plain": [
       "           form       lemma\n",
       "0           þis         þis\n",
       "1           his          he\n",
       "2            sy       wesan\n",
       "3    forewearde  forewearde\n",
       "4            þe          se\n",
       "..          ...         ...\n",
       "200           7           7\n",
       "201     Ægelmær     Ægelmær\n",
       "202           7           7\n",
       "203        Sexi        Sexi\n",
       "204           .           .\n",
       "\n",
       "[205 rows x 2 columns]"
      ]
     },
     "execution_count": 12,
     "metadata": {},
     "output_type": "execute_result"
    }
   ],
   "source": [
    "lemmas_df = pd.DataFrame(lemmas, columns = ['form', 'lemma']) \n",
    "lemmas_df"
   ]
  },
  {
   "cell_type": "code",
   "execution_count": 13,
   "metadata": {},
   "outputs": [],
   "source": [
    "lemmas_df.to_csv(\"lemmas.csv\", index=False)"
   ]
  },
  {
   "cell_type": "code",
   "execution_count": 14,
   "metadata": {},
   "outputs": [],
   "source": [
    "from cltk.corpus.utils.importer import CorpusImporter\n",
    "corpus_importer = CorpusImporter(\"old_english\")\n",
    "corpus_importer.list_corpora\n",
    "corpus_importer.import_corpus('old_english_models_cltk')"
   ]
  },
  {
   "cell_type": "code",
   "execution_count": 15,
   "metadata": {},
   "outputs": [],
   "source": [
    "from cltk.tag.pos import POSTag\n",
    "\n",
    "tagger = POSTag('old_english')\n",
    "\n",
    "pos = tagger.tag_crf(texts_str)"
   ]
  },
  {
   "cell_type": "code",
   "execution_count": 16,
   "metadata": {},
   "outputs": [
    {
     "data": {
      "text/html": [
       "<div>\n",
       "<style scoped>\n",
       "    .dataframe tbody tr th:only-of-type {\n",
       "        vertical-align: middle;\n",
       "    }\n",
       "\n",
       "    .dataframe tbody tr th {\n",
       "        vertical-align: top;\n",
       "    }\n",
       "\n",
       "    .dataframe thead th {\n",
       "        text-align: right;\n",
       "    }\n",
       "</style>\n",
       "<table border=\"1\" class=\"dataframe\">\n",
       "  <thead>\n",
       "    <tr style=\"text-align: right;\">\n",
       "      <th></th>\n",
       "      <th>word</th>\n",
       "      <th>POS</th>\n",
       "    </tr>\n",
       "  </thead>\n",
       "  <tbody>\n",
       "    <tr>\n",
       "      <th>0</th>\n",
       "      <td>þis</td>\n",
       "      <td>PD</td>\n",
       "    </tr>\n",
       "    <tr>\n",
       "      <th>1</th>\n",
       "      <td>his</td>\n",
       "      <td>PS</td>\n",
       "    </tr>\n",
       "    <tr>\n",
       "      <th>2</th>\n",
       "      <td>sy</td>\n",
       "      <td>NB</td>\n",
       "    </tr>\n",
       "    <tr>\n",
       "      <th>3</th>\n",
       "      <td>forewearde</td>\n",
       "      <td>V-</td>\n",
       "    </tr>\n",
       "    <tr>\n",
       "      <th>4</th>\n",
       "      <td>þe</td>\n",
       "      <td>G-</td>\n",
       "    </tr>\n",
       "    <tr>\n",
       "      <th>...</th>\n",
       "      <td>...</td>\n",
       "      <td>...</td>\n",
       "    </tr>\n",
       "    <tr>\n",
       "      <th>200</th>\n",
       "      <td>7</td>\n",
       "      <td>NB</td>\n",
       "    </tr>\n",
       "    <tr>\n",
       "      <th>201</th>\n",
       "      <td>Ægelmær</td>\n",
       "      <td>DF</td>\n",
       "    </tr>\n",
       "    <tr>\n",
       "      <th>202</th>\n",
       "      <td>7</td>\n",
       "      <td>R-</td>\n",
       "    </tr>\n",
       "    <tr>\n",
       "      <th>203</th>\n",
       "      <td>Sexi</td>\n",
       "      <td>NE</td>\n",
       "    </tr>\n",
       "    <tr>\n",
       "      <th>204</th>\n",
       "      <td>.</td>\n",
       "      <td>C-</td>\n",
       "    </tr>\n",
       "  </tbody>\n",
       "</table>\n",
       "<p>205 rows × 2 columns</p>\n",
       "</div>"
      ],
      "text/plain": [
       "           word POS\n",
       "0           þis  PD\n",
       "1           his  PS\n",
       "2            sy  NB\n",
       "3    forewearde  V-\n",
       "4            þe  G-\n",
       "..          ...  ..\n",
       "200           7  NB\n",
       "201     Ægelmær  DF\n",
       "202           7  R-\n",
       "203        Sexi  NE\n",
       "204           .  C-\n",
       "\n",
       "[205 rows x 2 columns]"
      ]
     },
     "execution_count": 16,
     "metadata": {},
     "output_type": "execute_result"
    }
   ],
   "source": [
    "POS = pd.DataFrame(pos, columns = ['word', 'POS'])\n",
    "POS"
   ]
  },
  {
   "cell_type": "code",
   "execution_count": 17,
   "metadata": {},
   "outputs": [],
   "source": [
    "POS.to_csv(\"POS.csv\", index=False)"
   ]
  },
  {
   "cell_type": "code",
   "execution_count": null,
   "metadata": {},
   "outputs": [],
   "source": []
  }
 ],
 "metadata": {
  "kernelspec": {
   "display_name": "Python 3",
   "language": "python",
   "name": "python3"
  },
  "language_info": {
   "codemirror_mode": {
    "name": "ipython",
    "version": 3
   },
   "file_extension": ".py",
   "mimetype": "text/x-python",
   "name": "python",
   "nbconvert_exporter": "python",
   "pygments_lexer": "ipython3",
   "version": "3.7.3"
  }
 },
 "nbformat": 4,
 "nbformat_minor": 4
}
